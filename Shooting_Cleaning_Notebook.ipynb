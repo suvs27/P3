{
 "cells": [
  {
   "cell_type": "code",
   "execution_count": 12,
   "metadata": {},
   "outputs": [],
   "source": [
    "# Dependencies\n",
    "import pandas as pd\n",
    "import numpy as np"
   ]
  },
  {
   "cell_type": "code",
   "execution_count": 13,
   "metadata": {},
   "outputs": [],
   "source": [
    "# Name of the CSV file\n",
    "file = 'NYPD_Shooting_Incident_Data__Historic_.csv'"
   ]
  },
  {
   "cell_type": "code",
   "execution_count": 14,
   "metadata": {},
   "outputs": [],
   "source": [
    "df = pd.read_csv(file)"
   ]
  },
  {
   "cell_type": "code",
   "execution_count": 15,
   "metadata": {},
   "outputs": [
    {
     "data": {
      "text/html": [
       "<div>\n",
       "<style scoped>\n",
       "    .dataframe tbody tr th:only-of-type {\n",
       "        vertical-align: middle;\n",
       "    }\n",
       "\n",
       "    .dataframe tbody tr th {\n",
       "        vertical-align: top;\n",
       "    }\n",
       "\n",
       "    .dataframe thead th {\n",
       "        text-align: right;\n",
       "    }\n",
       "</style>\n",
       "<table border=\"1\" class=\"dataframe\">\n",
       "  <thead>\n",
       "    <tr style=\"text-align: right;\">\n",
       "      <th></th>\n",
       "      <th>INCIDENT_KEY</th>\n",
       "      <th>OCCUR_DATE</th>\n",
       "      <th>OCCUR_TIME</th>\n",
       "      <th>BORO</th>\n",
       "      <th>PRECINCT</th>\n",
       "      <th>JURISDICTION_CODE</th>\n",
       "      <th>LOCATION_DESC</th>\n",
       "      <th>STATISTICAL_MURDER_FLAG</th>\n",
       "      <th>PERP_AGE_GROUP</th>\n",
       "      <th>PERP_SEX</th>\n",
       "      <th>PERP_RACE</th>\n",
       "      <th>VIC_AGE_GROUP</th>\n",
       "      <th>VIC_SEX</th>\n",
       "      <th>VIC_RACE</th>\n",
       "      <th>X_COORD_CD</th>\n",
       "      <th>Y_COORD_CD</th>\n",
       "      <th>Latitude</th>\n",
       "      <th>Longitude</th>\n",
       "    </tr>\n",
       "  </thead>\n",
       "  <tbody>\n",
       "    <tr>\n",
       "      <th>0</th>\n",
       "      <td>169180023</td>\n",
       "      <td>9/9/2017</td>\n",
       "      <td>3:57:00</td>\n",
       "      <td>STATEN ISLAND</td>\n",
       "      <td>120</td>\n",
       "      <td>0.0</td>\n",
       "      <td>NaN</td>\n",
       "      <td>False</td>\n",
       "      <td>NaN</td>\n",
       "      <td>NaN</td>\n",
       "      <td>NaN</td>\n",
       "      <td>25-44</td>\n",
       "      <td>M</td>\n",
       "      <td>BLACK</td>\n",
       "      <td>959975</td>\n",
       "      <td>171772</td>\n",
       "      <td>40.638126</td>\n",
       "      <td>-74.087467</td>\n",
       "    </tr>\n",
       "    <tr>\n",
       "      <th>1</th>\n",
       "      <td>169180027</td>\n",
       "      <td>9/9/2017</td>\n",
       "      <td>22:15:00</td>\n",
       "      <td>BRONX</td>\n",
       "      <td>50</td>\n",
       "      <td>0.0</td>\n",
       "      <td>NaN</td>\n",
       "      <td>False</td>\n",
       "      <td>NaN</td>\n",
       "      <td>NaN</td>\n",
       "      <td>NaN</td>\n",
       "      <td>25-44</td>\n",
       "      <td>M</td>\n",
       "      <td>BLACK HISPANIC</td>\n",
       "      <td>1011288</td>\n",
       "      <td>255912</td>\n",
       "      <td>40.869061</td>\n",
       "      <td>-73.902242</td>\n",
       "    </tr>\n",
       "    <tr>\n",
       "      <th>2</th>\n",
       "      <td>169180025</td>\n",
       "      <td>9/9/2017</td>\n",
       "      <td>18:35:00</td>\n",
       "      <td>BROOKLYN</td>\n",
       "      <td>79</td>\n",
       "      <td>2.0</td>\n",
       "      <td>MULTI DWELL - PUBLIC HOUS</td>\n",
       "      <td>False</td>\n",
       "      <td>NaN</td>\n",
       "      <td>NaN</td>\n",
       "      <td>NaN</td>\n",
       "      <td>18-24</td>\n",
       "      <td>M</td>\n",
       "      <td>BLACK</td>\n",
       "      <td>999888</td>\n",
       "      <td>193014</td>\n",
       "      <td>40.696450</td>\n",
       "      <td>-73.943607</td>\n",
       "    </tr>\n",
       "    <tr>\n",
       "      <th>3</th>\n",
       "      <td>169180024</td>\n",
       "      <td>9/9/2017</td>\n",
       "      <td>15:20:00</td>\n",
       "      <td>BROOKLYN</td>\n",
       "      <td>67</td>\n",
       "      <td>0.0</td>\n",
       "      <td>NaN</td>\n",
       "      <td>False</td>\n",
       "      <td>18-24</td>\n",
       "      <td>M</td>\n",
       "      <td>BLACK</td>\n",
       "      <td>18-24</td>\n",
       "      <td>M</td>\n",
       "      <td>BLACK</td>\n",
       "      <td>997784</td>\n",
       "      <td>172132</td>\n",
       "      <td>40.639137</td>\n",
       "      <td>-73.951236</td>\n",
       "    </tr>\n",
       "    <tr>\n",
       "      <th>4</th>\n",
       "      <td>169180022</td>\n",
       "      <td>9/9/2017</td>\n",
       "      <td>0:20:00</td>\n",
       "      <td>BROOKLYN</td>\n",
       "      <td>61</td>\n",
       "      <td>2.0</td>\n",
       "      <td>MULTI DWELL - PUBLIC HOUS</td>\n",
       "      <td>False</td>\n",
       "      <td>NaN</td>\n",
       "      <td>NaN</td>\n",
       "      <td>NaN</td>\n",
       "      <td>25-44</td>\n",
       "      <td>M</td>\n",
       "      <td>ASIAN / PACIFIC ISLANDER</td>\n",
       "      <td>1001019</td>\n",
       "      <td>156467</td>\n",
       "      <td>40.596134</td>\n",
       "      <td>-73.939619</td>\n",
       "    </tr>\n",
       "  </tbody>\n",
       "</table>\n",
       "</div>"
      ],
      "text/plain": [
       "   INCIDENT_KEY OCCUR_DATE OCCUR_TIME           BORO  PRECINCT  \\\n",
       "0     169180023   9/9/2017    3:57:00  STATEN ISLAND       120   \n",
       "1     169180027   9/9/2017   22:15:00          BRONX        50   \n",
       "2     169180025   9/9/2017   18:35:00       BROOKLYN        79   \n",
       "3     169180024   9/9/2017   15:20:00       BROOKLYN        67   \n",
       "4     169180022   9/9/2017    0:20:00       BROOKLYN        61   \n",
       "\n",
       "   JURISDICTION_CODE              LOCATION_DESC  STATISTICAL_MURDER_FLAG  \\\n",
       "0                0.0                        NaN                    False   \n",
       "1                0.0                        NaN                    False   \n",
       "2                2.0  MULTI DWELL - PUBLIC HOUS                    False   \n",
       "3                0.0                        NaN                    False   \n",
       "4                2.0  MULTI DWELL - PUBLIC HOUS                    False   \n",
       "\n",
       "  PERP_AGE_GROUP PERP_SEX PERP_RACE VIC_AGE_GROUP VIC_SEX  \\\n",
       "0            NaN      NaN       NaN         25-44       M   \n",
       "1            NaN      NaN       NaN         25-44       M   \n",
       "2            NaN      NaN       NaN         18-24       M   \n",
       "3          18-24        M     BLACK         18-24       M   \n",
       "4            NaN      NaN       NaN         25-44       M   \n",
       "\n",
       "                   VIC_RACE X_COORD_CD Y_COORD_CD   Latitude  Longitude  \n",
       "0                     BLACK     959975     171772  40.638126 -74.087467  \n",
       "1            BLACK HISPANIC    1011288     255912  40.869061 -73.902242  \n",
       "2                     BLACK     999888     193014  40.696450 -73.943607  \n",
       "3                     BLACK     997784     172132  40.639137 -73.951236  \n",
       "4  ASIAN / PACIFIC ISLANDER    1001019     156467  40.596134 -73.939619  "
      ]
     },
     "execution_count": 15,
     "metadata": {},
     "output_type": "execute_result"
    }
   ],
   "source": [
    "df.head()"
   ]
  },
  {
   "cell_type": "code",
   "execution_count": 16,
   "metadata": {},
   "outputs": [
    {
     "data": {
      "text/plain": [
       "(20659, 18)"
      ]
     },
     "execution_count": 16,
     "metadata": {},
     "output_type": "execute_result"
    }
   ],
   "source": [
    "df.shape"
   ]
  },
  {
   "cell_type": "code",
   "execution_count": 17,
   "metadata": {},
   "outputs": [
    {
     "data": {
      "text/plain": [
       "INCIDENT_KEY               20659\n",
       "OCCUR_DATE                 20659\n",
       "OCCUR_TIME                 20659\n",
       "BORO                       20659\n",
       "PRECINCT                   20659\n",
       "JURISDICTION_CODE          20658\n",
       "LOCATION_DESC               8944\n",
       "STATISTICAL_MURDER_FLAG    20659\n",
       "PERP_AGE_GROUP             13802\n",
       "PERP_SEX                   13836\n",
       "PERP_RACE                  13836\n",
       "VIC_AGE_GROUP              20659\n",
       "VIC_SEX                    20659\n",
       "VIC_RACE                   20659\n",
       "X_COORD_CD                 20659\n",
       "Y_COORD_CD                 20659\n",
       "Latitude                   20659\n",
       "Longitude                  20659\n",
       "dtype: int64"
      ]
     },
     "execution_count": 17,
     "metadata": {},
     "output_type": "execute_result"
    }
   ],
   "source": [
    "# Identify incomplete rows\n",
    "df.count()"
   ]
  },
  {
   "cell_type": "code",
   "execution_count": 18,
   "metadata": {},
   "outputs": [],
   "source": [
    "# Delete columns LOCATION_DESC, PERP_AGE_GROUP, PERP_SEX, PERP_RACE\n",
    "del df['LOCATION_DESC']\n",
    "del df['PERP_AGE_GROUP']\n",
    "del df['PERP_SEX']\n",
    "del df['PERP_RACE']\n",
    "\n"
   ]
  },
  {
   "cell_type": "code",
   "execution_count": 19,
   "metadata": {},
   "outputs": [
    {
     "data": {
      "text/plain": [
       "INCIDENT_KEY               20659\n",
       "OCCUR_DATE                 20659\n",
       "OCCUR_TIME                 20659\n",
       "BORO                       20659\n",
       "PRECINCT                   20659\n",
       "JURISDICTION_CODE          20658\n",
       "STATISTICAL_MURDER_FLAG    20659\n",
       "VIC_AGE_GROUP              20659\n",
       "VIC_SEX                    20659\n",
       "VIC_RACE                   20659\n",
       "X_COORD_CD                 20659\n",
       "Y_COORD_CD                 20659\n",
       "Latitude                   20659\n",
       "Longitude                  20659\n",
       "dtype: int64"
      ]
     },
     "execution_count": 19,
     "metadata": {},
     "output_type": "execute_result"
    }
   ],
   "source": [
    "# Verify dropped rows\n",
    "df.count()"
   ]
  },
  {
   "cell_type": "code",
   "execution_count": 20,
   "metadata": {},
   "outputs": [
    {
     "data": {
      "text/plain": [
       "INCIDENT_KEY                 int64\n",
       "OCCUR_DATE                  object\n",
       "OCCUR_TIME                  object\n",
       "BORO                        object\n",
       "PRECINCT                     int64\n",
       "JURISDICTION_CODE          float64\n",
       "STATISTICAL_MURDER_FLAG       bool\n",
       "VIC_AGE_GROUP               object\n",
       "VIC_SEX                     object\n",
       "VIC_RACE                    object\n",
       "X_COORD_CD                  object\n",
       "Y_COORD_CD                  object\n",
       "Latitude                   float64\n",
       "Longitude                  float64\n",
       "dtype: object"
      ]
     },
     "execution_count": 20,
     "metadata": {},
     "output_type": "execute_result"
    }
   ],
   "source": [
    "df.dtypes"
   ]
  },
  {
   "cell_type": "code",
   "execution_count": 21,
   "metadata": {},
   "outputs": [
    {
     "data": {
      "text/html": [
       "<div>\n",
       "<style scoped>\n",
       "    .dataframe tbody tr th:only-of-type {\n",
       "        vertical-align: middle;\n",
       "    }\n",
       "\n",
       "    .dataframe tbody tr th {\n",
       "        vertical-align: top;\n",
       "    }\n",
       "\n",
       "    .dataframe thead th {\n",
       "        text-align: right;\n",
       "    }\n",
       "</style>\n",
       "<table border=\"1\" class=\"dataframe\">\n",
       "  <thead>\n",
       "    <tr style=\"text-align: right;\">\n",
       "      <th></th>\n",
       "      <th>INCIDENT_KEY</th>\n",
       "      <th>PRECINCT</th>\n",
       "      <th>JURISDICTION_CODE</th>\n",
       "      <th>Latitude</th>\n",
       "      <th>Longitude</th>\n",
       "    </tr>\n",
       "  </thead>\n",
       "  <tbody>\n",
       "    <tr>\n",
       "      <th>count</th>\n",
       "      <td>2.065900e+04</td>\n",
       "      <td>20659.000000</td>\n",
       "      <td>20658.000000</td>\n",
       "      <td>20659.000000</td>\n",
       "      <td>20659.000000</td>\n",
       "    </tr>\n",
       "    <tr>\n",
       "      <th>mean</th>\n",
       "      <td>8.697715e+07</td>\n",
       "      <td>66.252432</td>\n",
       "      <td>0.323023</td>\n",
       "      <td>40.735722</td>\n",
       "      <td>-73.909360</td>\n",
       "    </tr>\n",
       "    <tr>\n",
       "      <th>std</th>\n",
       "      <td>4.817673e+07</td>\n",
       "      <td>27.023570</td>\n",
       "      <td>0.734606</td>\n",
       "      <td>0.087382</td>\n",
       "      <td>0.066867</td>\n",
       "    </tr>\n",
       "    <tr>\n",
       "      <th>min</th>\n",
       "      <td>9.953245e+06</td>\n",
       "      <td>1.000000</td>\n",
       "      <td>0.000000</td>\n",
       "      <td>40.511586</td>\n",
       "      <td>-74.249304</td>\n",
       "    </tr>\n",
       "    <tr>\n",
       "      <th>25%</th>\n",
       "      <td>5.043350e+07</td>\n",
       "      <td>44.000000</td>\n",
       "      <td>0.000000</td>\n",
       "      <td>40.667879</td>\n",
       "      <td>-73.943423</td>\n",
       "    </tr>\n",
       "    <tr>\n",
       "      <th>50%</th>\n",
       "      <td>7.937850e+07</td>\n",
       "      <td>69.000000</td>\n",
       "      <td>0.000000</td>\n",
       "      <td>40.697400</td>\n",
       "      <td>-73.915535</td>\n",
       "    </tr>\n",
       "    <tr>\n",
       "      <th>75%</th>\n",
       "      <td>1.381548e+08</td>\n",
       "      <td>81.000000</td>\n",
       "      <td>0.000000</td>\n",
       "      <td>40.823141</td>\n",
       "      <td>-73.882082</td>\n",
       "    </tr>\n",
       "    <tr>\n",
       "      <th>max</th>\n",
       "      <td>1.917035e+08</td>\n",
       "      <td>123.000000</td>\n",
       "      <td>2.000000</td>\n",
       "      <td>40.910819</td>\n",
       "      <td>-73.703082</td>\n",
       "    </tr>\n",
       "  </tbody>\n",
       "</table>\n",
       "</div>"
      ],
      "text/plain": [
       "       INCIDENT_KEY      PRECINCT  JURISDICTION_CODE      Latitude  \\\n",
       "count  2.065900e+04  20659.000000       20658.000000  20659.000000   \n",
       "mean   8.697715e+07     66.252432           0.323023     40.735722   \n",
       "std    4.817673e+07     27.023570           0.734606      0.087382   \n",
       "min    9.953245e+06      1.000000           0.000000     40.511586   \n",
       "25%    5.043350e+07     44.000000           0.000000     40.667879   \n",
       "50%    7.937850e+07     69.000000           0.000000     40.697400   \n",
       "75%    1.381548e+08     81.000000           0.000000     40.823141   \n",
       "max    1.917035e+08    123.000000           2.000000     40.910819   \n",
       "\n",
       "          Longitude  \n",
       "count  20659.000000  \n",
       "mean     -73.909360  \n",
       "std        0.066867  \n",
       "min      -74.249304  \n",
       "25%      -73.943423  \n",
       "50%      -73.915535  \n",
       "75%      -73.882082  \n",
       "max      -73.703082  "
      ]
     },
     "execution_count": 21,
     "metadata": {},
     "output_type": "execute_result"
    }
   ],
   "source": [
    "df.describe()"
   ]
  },
  {
   "cell_type": "code",
   "execution_count": 22,
   "metadata": {},
   "outputs": [],
   "source": [
    "df.to_csv(\"Shootings.csv\", index=False, header=True)"
   ]
  },
  {
   "cell_type": "code",
   "execution_count": null,
   "metadata": {},
   "outputs": [],
   "source": []
  }
 ],
 "metadata": {
  "kernelspec": {
   "display_name": "Python 3",
   "language": "python",
   "name": "python3"
  },
  "language_info": {
   "codemirror_mode": {
    "name": "ipython",
    "version": 3
   },
   "file_extension": ".py",
   "mimetype": "text/x-python",
   "name": "python",
   "nbconvert_exporter": "python",
   "pygments_lexer": "ipython3",
   "version": "3.7.3"
  }
 },
 "nbformat": 4,
 "nbformat_minor": 2
}
